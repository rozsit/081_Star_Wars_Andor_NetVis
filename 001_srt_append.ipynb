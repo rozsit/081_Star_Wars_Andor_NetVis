{
 "cells": [
  {
   "cell_type": "code",
   "execution_count": 2,
   "id": "05eae286-648c-4051-b345-569c4e7efab1",
   "metadata": {},
   "outputs": [
    {
     "name": "stdout",
     "output_type": "stream",
     "text": [
      "Read Andor S02E01 One Year Later 720p DSNP WEB-DL DDP5 1 H 264-NTb.Hi.srt using encoding: utf-8\n",
      "Read Andor S02E02 Sagrona Teema 720p DSNP WEB-DL DDP5 1 H 264-NTb.Hi.srt using encoding: utf-8\n",
      "Read andor.s01e01.2160p.bluray.remux.hevc_Subtitles01.ENG.srt using encoding: utf-8\n",
      "Read andor.s01e02.2160p.bluray.remux.hevc_Subtitles01.ENG.srt using encoding: utf-8\n",
      "Read Andor.S01E03.1080p.WEB.h264-KOGi-HI.srt using encoding: utf-8\n",
      "Read Andor.S01E04.1080p.WEB.h264-KOGi.srt using encoding: utf-8\n",
      "Read Andor.S01E05.1080p.WEB.h265-KOGi-HI.srt using encoding: utf-8\n",
      "Read Andor.S01E10.720p.WEB.h264-KOGi - No HI.srt using encoding: utf-8\n",
      "Read Andor.S02E03.Harvest.1080p.DSNP.WEB-DL.DDP5.1.Atmos.H.264-FLUX.Hi.srt using encoding: utf-8\n",
      "Read Andor.S02E04.1080p.HEVC.x265-MeGusta[EZTVx.to].srt using encoding: utf-8\n",
      "Read Andor.S02E05.720p.HEVC.x265-MeGusta[EZTVx.to].srt using encoding: utf-8\n",
      "Read Andor.S02E06.1080p.HEVC.x265-MeGusta[EZTVx.to].srt using encoding: utf-8\n",
      "Read Andor.S02E07.1080p.HEVC.x265-MeGusta[EZTVx.to].mkv.srt using encoding: utf-8\n",
      "Read Andor.S02E08.1080p.HEVC.x265-MeGusta[EZTVx.to].mkv.srt using encoding: utf-8\n",
      "Read Andor.S02E09.1080p.HEVC.x265-MeGusta[EZTVx.to].mkv.srt using encoding: utf-8\n",
      "Read Star.Wars.Andor.S01E06.The.Eye.1080p.DSNP.WEB-DL.DDP5.1.H.264-NTb.srt using encoding: utf-8\n",
      "Read Star.Wars.Andor.S01E07.Announcement.1080p.DSNP.WEBRip.DDP5.1.x264-NTb.srt using encoding: utf-8\n",
      "Read Star.Wars.Andor.S01E08.Narkina.5.1080p.DSNP.WEB-DL.DDP5.1.H.264-NTb.srt using encoding: utf-8\n",
      "Read Star.Wars.Andor.S01E09.1080p.DSNP.WEBRip.DDP5.1.x264-NTb.srt using encoding: utf-8\n",
      "Read Star.Wars.Andor.S01E11.Daughter.of.Ferrix.1080p.DSNP.WEB-DL.DDP5.1.H.264-NTb-HI.srt using encoding: utf-8\n",
      "Read Star.Wars.Andor.S01E12.Rix.Road.1080p.DSNP.WEB-DL.DDP5.1.H.264-NTb.srt using encoding: utf-8\n",
      "Merged subtitles have been saved to 'data\\Andor_appended_subs.txt'\n"
     ]
    }
   ],
   "source": [
    "import os\n",
    "import re\n",
    "\n",
    "# Define the folder containing the .srt files\n",
    "folder_path = r'data\\orig_subs'  # <-- Replace this with your actual folder path\n",
    "output_file = r'data\\Andor_appended_subs.txt'\n",
    "\n",
    "# Common encodings to try\n",
    "encodings_to_try = ['utf-8', 'windows-1252', 'iso-8859-2']\n",
    "\n",
    "merged_text_lines = []\n",
    "\n",
    "# Loop through each .srt file in the folder\n",
    "for filename in os.listdir(folder_path):\n",
    "    if filename.endswith('.srt'):\n",
    "        file_path = os.path.join(folder_path, filename)\n",
    "        content = None\n",
    "        \n",
    "        # Try reading file using different encodings\n",
    "        for enc in encodings_to_try:\n",
    "            try:\n",
    "                with open(file_path, 'r', encoding=enc) as file:\n",
    "                    content = file.read()\n",
    "                print(f\"Read {filename} using encoding: {enc}\")\n",
    "                break\n",
    "            except UnicodeDecodeError:\n",
    "                continue\n",
    "        \n",
    "        if content is None:\n",
    "            print(f\"Failed to read {filename} with supported encodings.\")\n",
    "            continue  # Skip this file if none of the encodings work\n",
    "        \n",
    "        # Remove subtitle numbering and timecodes\n",
    "        cleaned_lines = []\n",
    "        for line in content.split('\\n'):\n",
    "            if re.match(r'^\\d+$', line.strip()):\n",
    "                continue  # Skip subtitle numbering\n",
    "            if re.match(r'^\\d{2}:\\d{2}:\\d{2},\\d{3}', line.strip()):\n",
    "                continue  # Skip timecodes\n",
    "            if line.strip() == '':\n",
    "                continue  # Skip empty lines\n",
    "            cleaned_lines.append(line.strip())\n",
    "        \n",
    "        merged_text_lines.extend(cleaned_lines)\n",
    "        merged_text_lines.append('')  # Add blank line between files\n",
    "\n",
    "# Save merged text to .txt\n",
    "with open(output_file, 'w', encoding='utf-8') as output:\n",
    "    output.write('\\n'.join(merged_text_lines))\n",
    "\n",
    "print(f\"Merged subtitles have been saved to '{output_file}'\")"
   ]
  },
  {
   "cell_type": "code",
   "execution_count": null,
   "id": "922bda23-a4a2-420a-8ee2-344eb9082129",
   "metadata": {},
   "outputs": [],
   "source": []
  },
  {
   "cell_type": "code",
   "execution_count": null,
   "id": "f5e10a5a-ffb7-4d9a-b512-e8a76edc1173",
   "metadata": {},
   "outputs": [],
   "source": []
  }
 ],
 "metadata": {
  "kernelspec": {
   "display_name": "Python 3 (ipykernel)",
   "language": "python",
   "name": "python3"
  },
  "language_info": {
   "codemirror_mode": {
    "name": "ipython",
    "version": 3
   },
   "file_extension": ".py",
   "mimetype": "text/x-python",
   "name": "python",
   "nbconvert_exporter": "python",
   "pygments_lexer": "ipython3",
   "version": "3.12.1"
  }
 },
 "nbformat": 4,
 "nbformat_minor": 5
}
