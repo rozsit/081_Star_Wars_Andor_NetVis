{
 "cells": [
  {
   "cell_type": "code",
   "execution_count": 5,
   "id": "60216815-cfe9-4a2b-8dd7-a5400a78caaf",
   "metadata": {},
   "outputs": [
    {
     "name": "stdout",
     "output_type": "stream",
     "text": [
      "['Cassian Andor', 'Dedra Meero', 'Syril Karn', 'Luthen Rael', 'Bix Caleen', 'Mon Mothma', 'Major Partagaz', 'Vel Sartha', 'Wilmon', 'Kleya Marki', 'Attendant Heert', 'Supervisor Heert', 'B2EMO', 'Supervisor Lagret', 'Perrin Fertha', 'Cinta Kaz', 'Brasso', 'Eedy Karn', 'Supervisor Lonni Jung', 'Leida', 'Kloris', 'Erskin Semaj', 'Davo Sculdun', 'Tay Kolma', 'Two Tubes', 'Alien Bailiff', '...', 'Dreena', 'Dilan', 'Leeza', 'Enza Rylanz', 'Samm', 'Corv', 'Carro Rylanz', 'Melshi', 'Lieutenant Supervisor Blevin', 'Tazi', 'Sergeant Linus Mosk', 'Capso', 'Doctor Gorst', 'Captain Vanis Tigo', 'Salman Paak', 'Maarva Andor', 'Runai Sculdun', 'Rashi', 'Karis Nemik', 'Alien Grappler', 'Oathkeeper', 'Supervisor Grandi', 'Xanwan', 'Chandrilan Girl', 'Lieutenant Keysax', 'Nurchi', 'Lezine', 'Stekan Sculdun', 'Saw Gerrera', 'K-2SO', 'Kassa', 'Arvel Skeen', 'Taramyn Barcona', 'Ulaf', 'Box Guard Left', 'Senator Dasi Oran', 'Lieutenant Gorn', 'Box Guard Right', 'Box Guard #1', 'Grymish', 'BOS #1', 'Kino Loy', 'BOS #2', 'Jemboc', 'Timm Karlo', 'Voice of God', 'Time Grappler', 'Ham', 'Birnok', 'Table #2', 'Talia', 'Clem Andor', 'Xaul', 'Table #1', 'Taga', 'Table #3', 'Table #4', 'Pegla', 'Peermaid #1', 'Jezzi', 'Thela', 'Table #7', 'Peermaid #2', 'Night Shift #2', 'Night Shift #7', 'Beela', 'Zinska', 'Night Shift #1', 'Night Shift #3', 'Aunt Squidna', 'Uncle Sordo', 'Night Shift #4', 'Father', 'Son', 'Freedi Pamular', 'Senator #5', 'Alpha #1', 'Captain Kaido', 'Colonel Yularen', 'Alpha #4', 'IOC Guard #1', 'IOC Guard #2', 'Reporter #1', 'Flob', 'Reporter #2', 'Alpha #6', 'Alpha #3', 'Bail Organa', 'Chief Hyne', 'Alpha #2', 'Attendant Felzonis', 'Hostess', 'Snee', 'Sergeant Bloy', 'Alpha #5', 'Gerdis', 'Flek', 'Corporal #1', 'Corporal Kimzi', 'Kellen', 'Mishko', 'Bardi', 'Snur', 'West-4', 'Willi', 'West-3', 'Officer #1', 'Bayso', 'North-1', 'Young Cassian', 'East-1', 'Officer #2', 'North-3', 'Doctor Rhasiv', 'Rowd', 'Plug', 'Tick', 'Officer #3', 'Nazy', 'Delivery Guard #1', 'Neek', 'Officer #4', 'Console Guard #1', 'Delivery Guard #2', 'Intake Warden', 'Pluti', 'Aneth', 'Musk', 'Flu', 'Orson Krennic', 'Lieutenant Krole', 'Doctor Mullmoy', 'Soldier #2', 'Lieutenant Moy', 'Corporal Pyke', 'Soldier #1', 'Partisan', 'Kid', 'Transpo Guard #1', 'Niya', 'Doorman', 'Bartender', 'Talking Head', \"Niya's Co-Worker\", 'Kravas', 'Newscaster', 'Farmer #1', 'Senator #6', 'Verlo', 'Commandant Jayhold Beehaz', 'Senator #7', 'Chieftan', 'Niki', 'Fellow Prisoner', 'Gani', 'Bon', 'Colonel Petigar', 'Farmer #2', 'Kerri', 'Dewi Pamular', 'Console Tech', 'Wandering Soldier', 'Roboda Beehaz', 'Private #1', 'Bodega Vendor', 'Leonart Beehaz', 'Private #2', 'Running Soldier', 'Selko', 'Door Sentry', 'Charval', 'Corporal #4', 'Pono', 'Neighbour', 'Galley Soldier #2', 'Nervous Soldier', 'Galley Soldier #1', 'Senator Gane', 'Senator Nico', 'Corporal #2', 'Tech Op #1', 'Senate Officer', 'Tech Op #2', 'Lounge #1', 'Gunner #1', 'Lounge #2', 'Soldier #1', 'Senator #2', 'Hotel Clerk', 'Senate Reporter #1', 'Mobile Radioman', 'Astro-Traffic Control Officer', 'Senator #3', 'Force Healer', 'Senate Reporter #2', 'General Davits Draven', 'Senator #4', 'Senator Karloo', 'Vetch', 'Moffi', 'Toffi', 'Senator Erveen', 'Granik', 'Sunif Brecanti', 'New Employee', 'Console #1', 'Imperial Sniper', 'Captain Elk', 'Cleave', 'Elector', 'Jeen', 'Hotel Clerk', 'Executive Officer', 'Crab', 'Other Driver', 'Weapons Spec', 'Imperial Officer', 'Intake Sergeant', 'Windi', 'Pit #1', 'Recon Soldier A', 'Shambo', 'Pit #2', 'Recon Soldier B', 'Osar', 'Sergeant Stang', 'Judge', 'Wife', 'Bartender', 'Old Woman', 'Dewi', 'Prosecutor', 'Engineer Officer', 'Nervous Woman', 'Radio Soldier', 'Tenek', 'Freedi', 'Science Officer', 'Husband', 'Admiral Daysar']\n"
     ]
    }
   ],
   "source": [
    "import requests\n",
    "from bs4 import BeautifulSoup\n",
    "\n",
    "# IMDB page of Andor's full credits\n",
    "url = 'https://www.imdb.com/title/tt9253284/fullcredits'\n",
    "\n",
    "# HTTP header\n",
    "headers = {\n",
    "    'User-Agent': 'Mozilla/5.0 (Windows NT 10.0; Win64; x64) AppleWebKit/537.36 (KHTML, like Gecko) Chrome/58.0.3029.110 Safari/537.3'}\n",
    "\n",
    "# HTTP GET\n",
    "response = requests.get(url, headers=headers)\n",
    "\n",
    "# Main loop\n",
    "if response.status_code == 200:\n",
    "    soup = BeautifulSoup(response.content, 'html.parser')\n",
    "    \n",
    "    # Find all <a> tags that have 'href' containing '/characters/'\n",
    "    character_names = []\n",
    "    a_tags = soup.find_all('a', href=True)\n",
    "    for a in a_tags:\n",
    "        href = a['href']\n",
    "        if '/characters/' in href:\n",
    "            character_names.append(a.get_text(strip=True))\n",
    "    \n",
    "    print(character_names)\n",
    "else:\n",
    "    print(f\"Page load or read error: {response.status_code}\")"
   ]
  },
  {
   "cell_type": "code",
   "execution_count": null,
   "id": "a94a3381-8536-4ec0-ad92-6ca8e1b71045",
   "metadata": {},
   "outputs": [],
   "source": []
  }
 ],
 "metadata": {
  "kernelspec": {
   "display_name": "Python 3 (ipykernel)",
   "language": "python",
   "name": "python3"
  },
  "language_info": {
   "codemirror_mode": {
    "name": "ipython",
    "version": 3
   },
   "file_extension": ".py",
   "mimetype": "text/x-python",
   "name": "python",
   "nbconvert_exporter": "python",
   "pygments_lexer": "ipython3",
   "version": "3.12.1"
  }
 },
 "nbformat": 4,
 "nbformat_minor": 5
}
